{
 "cells": [
  {
   "cell_type": "markdown",
   "metadata": {},
   "source": [
    "# Project: Multiclass Classification of Flower Species\n",
    "\n",
    "reference: Deep Learning with Python chapter 10\n",
    "\n",
    "You will know:\n",
    "- How to load data from csv and make it available to Keras\n",
    "- How to prepare multiclass classification data for modeling with neural networks\n",
    "- How to evaluata Keras neural network models with scikit-learn"
   ]
  },
  {
   "cell_type": "code",
   "execution_count": 1,
   "metadata": {},
   "outputs": [
    {
     "data": {
      "text/plain": [
       "'\\nWe use the standard machine learning problem called the iris flowers dataset. \\nThis dataset is well studied and is a good problem for practicing on neural networks \\nbecause all of the 4 input variables are numeric and have the same scale in centimeters. \\nEach instance describes the properties of an observed flower measurements and \\nthe output variable is specific iris species. \\n\\nThe attributes for this dataset can be summarized as follows:\\n1. Sepal length in centimeters. \\n2. Sepal width in centimeters. \\n3. Petal length in centimeters. \\n4. Petal width in centimeters. \\n5. Class.\\n\\nThis is a multiclass classification problem, \\nmeaning that there are more than two classes to be predicted, \\nin fact there are three flower species.\\n'"
      ]
     },
     "execution_count": 1,
     "metadata": {},
     "output_type": "execute_result"
    }
   ],
   "source": [
    "'''\n",
    "We use the standard machine learning problem called the iris flowers dataset. \n",
    "This dataset is well studied and is a good problem for practicing on neural networks \n",
    "because all of the 4 input variables are numeric and have the same scale in centimeters. \n",
    "Each instance describes the properties of an observed flower measurements and \n",
    "the output variable is specific iris species. \n",
    "\n",
    "The attributes for this dataset can be summarized as follows:\n",
    "1. Sepal length in centimeters. \n",
    "2. Sepal width in centimeters. \n",
    "3. Petal length in centimeters. \n",
    "4. Petal width in centimeters. \n",
    "5. Class.\n",
    "\n",
    "This is a multiclass classification problem, \n",
    "meaning that there are more than two classes to be predicted, \n",
    "in fact there are three flower species.\n",
    "'''"
   ]
  },
  {
   "cell_type": "code",
   "execution_count": 1,
   "metadata": {},
   "outputs": [
    {
     "name": "stderr",
     "output_type": "stream",
     "text": [
      "Using TensorFlow backend.\n"
     ]
    }
   ],
   "source": [
    "### Import Classes and Functions\n",
    "import numpy\n",
    "from pandas import read_csv\n",
    "from keras.models import Sequential\n",
    "from keras.layers import Dense\n",
    "from keras.wrappers.scikit_learn import KerasClassifier\n",
    "from keras.utils import np_utils\n",
    "from sklearn.model_selection import cross_val_score\n",
    "from sklearn.model_selection import KFold\n",
    "from sklearn.preprocessing import LabelEncoder\n",
    "from sklearn.pipeline import Pipeline"
   ]
  },
  {
   "cell_type": "code",
   "execution_count": 2,
   "metadata": {},
   "outputs": [],
   "source": [
    "### Initialize Random Number Generator\n",
    "# fix random seed for reproducibility\n",
    "seed = 7\n",
    "numpy.random.seed(seed)"
   ]
  },
  {
   "cell_type": "code",
   "execution_count": 3,
   "metadata": {},
   "outputs": [],
   "source": [
    "### Load the Dataset\n",
    "dataframe = read_csv(\"../datasets/iris.csv\", header=None)\n",
    "dataset = dataframe.values\n",
    "X = dataset[:, 0:4].astype(float)\n",
    "Y = dataset[:, 4]"
   ]
  },
  {
   "cell_type": "code",
   "execution_count": 6,
   "metadata": {},
   "outputs": [],
   "source": [
    "### Encode the Output Variable\n",
    "encoder = LabelEncoder()\n",
    "encoder.fit(Y)\n",
    "encoded_Y = encoder.transform(Y)\n",
    "# convert integers to dummy variables (i.e. one hot encoded)\n",
    "dummy_y = np_utils.to_categorical(encoded_Y)"
   ]
  },
  {
   "cell_type": "code",
   "execution_count": 8,
   "metadata": {},
   "outputs": [],
   "source": [
    "### Define the Neural Network Model\n",
    "# define baseline model\n",
    "def baseline_model():\n",
    "    # create model\n",
    "    model = Sequential()\n",
    "    model.add(Dense(8, input_dim=4, activation='relu'))\n",
    "    model.add(Dense(3, activation='softmax'))\n",
    "    # compile model\n",
    "    model.compile(loss='categorical_crossentropy', optimizer='adam', metrics=['accuracy'])\n",
    "    return model\n",
    "\n",
    "estimator = KerasClassifier(build_fn=baseline_model, epochs=200, batch_size=5, verbose=0)"
   ]
  },
  {
   "cell_type": "code",
   "execution_count": 9,
   "metadata": {},
   "outputs": [
    {
     "name": "stdout",
     "output_type": "stream",
     "text": [
      "Accuracy: 97.33% (4.42%)\n"
     ]
    }
   ],
   "source": [
    "### Evaluate the Model with k-Fold Cross-Validation\n",
    "kfold = KFold(n_splits=10, shuffle=True, random_state=seed)\n",
    "\n",
    "results = cross_val_score(estimator, X, dummy_y, cv=kfold)\n",
    "print(\"Accuracy: %.2f%% (%.2f%%)\" % (results.mean()*100, results.std()*100))"
   ]
  },
  {
   "cell_type": "code",
   "execution_count": null,
   "metadata": {},
   "outputs": [],
   "source": []
  }
 ],
 "metadata": {
  "kernelspec": {
   "display_name": "dl_env",
   "language": "python",
   "name": "dl_env"
  },
  "language_info": {
   "codemirror_mode": {
    "name": "ipython",
    "version": 3
   },
   "file_extension": ".py",
   "mimetype": "text/x-python",
   "name": "python",
   "nbconvert_exporter": "python",
   "pygments_lexer": "ipython3",
   "version": "3.6.5"
  }
 },
 "nbformat": 4,
 "nbformat_minor": 2
}
